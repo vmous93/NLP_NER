{
 "cells": [
  {
   "cell_type": "code",
   "execution_count": 80,
   "id": "a61af836",
   "metadata": {},
   "outputs": [],
   "source": [
    "from sklearn_crfsuite import CRF\n",
    "from sklearn.preprocessing import MultiLabelBinarizer, LabelEncoder\n",
    "from sklearn.metrics import classification_report\n",
    "from sklearn.utils import class_weight\n",
    "import random\n",
    "import itertools\n",
    "import numpy as np\n",
    "import scipy\n",
    "import pandas as pd\n",
    "from sklearn import metrics\n",
    "from sklearn_crfsuite.utils import flatten\n",
    "from datasets import load_dataset\n",
    "import warnings\n",
    "warnings.filterwarnings('ignore')"
   ]
  },
  {
   "cell_type": "markdown",
   "id": "1cb3c376",
   "metadata": {},
   "source": [
    "### Load Dataset"
   ]
  },
  {
   "cell_type": "code",
   "execution_count": 81,
   "id": "5a22ac09",
   "metadata": {},
   "outputs": [
    {
     "name": "stderr",
     "output_type": "stream",
     "text": [
      "Found cached dataset conll2003 (C:/Users/vahid/.cache/huggingface/datasets/conll2003/conll2003/1.0.0/9a4d16a94f8674ba3466315300359b0acd891b68b6c8743ddf60b9c702adce98)\n"
     ]
    },
    {
     "data": {
      "application/vnd.jupyter.widget-view+json": {
       "model_id": "ef5a99fa3e4741c79801dbc5c9698770",
       "version_major": 2,
       "version_minor": 0
      },
      "text/plain": [
       "  0%|          | 0/3 [00:00<?, ?it/s]"
      ]
     },
     "metadata": {},
     "output_type": "display_data"
    }
   ],
   "source": [
    "dataset = load_dataset(\"conll2003\")\n",
    "train_set = dataset[\"train\"]\n",
    "validation_set = dataset[\"validation\"]\n",
    "test_set = dataset[\"test\"]"
   ]
  },
  {
   "cell_type": "code",
   "execution_count": 82,
   "id": "6a341e33",
   "metadata": {},
   "outputs": [],
   "source": [
    "# A function to convert digit labels to string labels\n",
    "def convert_ner_tags(dataset):\n",
    "  # Label mapping from integer to string\n",
    "  label_map = {0: 'O', 1: 'PER', 2: 'B-PER', 3: 'I-PER', 4: 'B-ORG', 5: 'I-ORG', 6: 'B-LOC', 7: 'I-LOC', 8: 'B-MISC', 9: 'I-MISC'}\n",
    "  list_sent = []\n",
    "  list_labels = []\n",
    "  for sent in dataset:\n",
    "    words = []\n",
    "    label = []\n",
    "    for word, label_idx in zip(sent['tokens'], sent['ner_tags']):\n",
    "        label.append(label_map[label_idx])\n",
    "        words.append(word)\n",
    "    list_sent.append(words)\n",
    "    list_labels.append(label)\n",
    "  return list_sent, list_labels"
   ]
  },
  {
   "cell_type": "code",
   "execution_count": 83,
   "id": "046ea32b",
   "metadata": {},
   "outputs": [],
   "source": [
    "# Define the train, validation and test set\n",
    "train_ner, train_label_ner = convert_ner_tags(train_set)\n",
    "validation_ner, validation_label_ner  = convert_ner_tags(validation_set)\n",
    "test_ner, test_label_ner = convert_ner_tags(test_set)"
   ]
  },
  {
   "cell_type": "code",
   "execution_count": 84,
   "id": "09a0d767",
   "metadata": {},
   "outputs": [
    {
     "name": "stdout",
     "output_type": "stream",
     "text": [
      "Train 14041 14041\n",
      "Test 3453 3453\n",
      "Validation 3250 3250\n"
     ]
    }
   ],
   "source": [
    "print('Train',len(train_ner),len(train_label_ner))\n",
    "print('Test',len(test_ner),len(test_label_ner))\n",
    "print('Validation',len(validation_ner),len(validation_label_ner))"
   ]
  },
  {
   "cell_type": "code",
   "execution_count": 85,
   "id": "0f18d854",
   "metadata": {},
   "outputs": [
    {
     "name": "stdout",
     "output_type": "stream",
     "text": [
      "Full 17291 17291\n"
     ]
    }
   ],
   "source": [
    "# Increase size of train set\n",
    "new_train = []\n",
    "new_train.extend(train_ner)\n",
    "new_train.extend(validation_ner)\n",
    "\n",
    "new_label = []\n",
    "new_label.extend(train_label_ner)\n",
    "new_label.extend(validation_label_ner)\n",
    "\n",
    "print('Full',len(new_train),len(new_label))"
   ]
  },
  {
   "cell_type": "markdown",
   "id": "34ff60a1",
   "metadata": {},
   "source": [
    "### Weights of Classes"
   ]
  },
  {
   "cell_type": "code",
   "execution_count": 86,
   "id": "d70e2f28",
   "metadata": {},
   "outputs": [
    {
     "data": {
      "text/html": [
       "<div>\n",
       "<style scoped>\n",
       "    .dataframe tbody tr th:only-of-type {\n",
       "        vertical-align: middle;\n",
       "    }\n",
       "\n",
       "    .dataframe tbody tr th {\n",
       "        vertical-align: top;\n",
       "    }\n",
       "\n",
       "    .dataframe thead th {\n",
       "        text-align: right;\n",
       "    }\n",
       "</style>\n",
       "<table border=\"1\" class=\"dataframe\">\n",
       "  <thead>\n",
       "    <tr style=\"text-align: right;\">\n",
       "      <th></th>\n",
       "      <th>Weight</th>\n",
       "    </tr>\n",
       "  </thead>\n",
       "  <tbody>\n",
       "    <tr>\n",
       "      <th>B-LOC</th>\n",
       "      <td>19.554499</td>\n",
       "    </tr>\n",
       "    <tr>\n",
       "      <th>B-MISC</th>\n",
       "      <td>19.588360</td>\n",
       "    </tr>\n",
       "    <tr>\n",
       "      <th>B-ORG</th>\n",
       "      <td>6.108141</td>\n",
       "    </tr>\n",
       "    <tr>\n",
       "      <th>B-PER</th>\n",
       "      <td>4.996589</td>\n",
       "    </tr>\n",
       "    <tr>\n",
       "      <th>I-LOC</th>\n",
       "      <td>6.580732</td>\n",
       "    </tr>\n",
       "    <tr>\n",
       "      <th>I-ORG</th>\n",
       "      <td>3.168705</td>\n",
       "    </tr>\n",
       "    <tr>\n",
       "      <th>I-PER</th>\n",
       "      <td>3.579268</td>\n",
       "    </tr>\n",
       "    <tr>\n",
       "      <th>O</th>\n",
       "      <td>0.133417</td>\n",
       "    </tr>\n",
       "    <tr>\n",
       "      <th>PER</th>\n",
       "      <td>3.427963</td>\n",
       "    </tr>\n",
       "  </tbody>\n",
       "</table>\n",
       "</div>"
      ],
      "text/plain": [
       "           Weight\n",
       "B-LOC   19.554499\n",
       "B-MISC  19.588360\n",
       "B-ORG    6.108141\n",
       "B-PER    4.996589\n",
       "I-LOC    6.580732\n",
       "I-ORG    3.168705\n",
       "I-PER    3.579268\n",
       "O        0.133417\n",
       "PER      3.427963"
      ]
     },
     "metadata": {},
     "output_type": "display_data"
    }
   ],
   "source": [
    "# Compute class weights\n",
    "from sklearn.utils.class_weight import compute_class_weight\n",
    "import pandas as pd\n",
    "\n",
    "class_weights = compute_class_weight(class_weight = \"balanced\", classes= np.unique(flatten(train_label_ner)), y= flatten(train_label_ner))\n",
    "\n",
    "# Convert the class weights to a dictionary\n",
    "class_weights_dict = dict(zip(np.unique(flatten(train_label_ner)), class_weights))\n",
    "pd_weights = pd.DataFrame.from_dict(class_weights_dict, \"index\", columns=['Weight'])\n",
    "display(pd_weights)"
   ]
  },
  {
   "cell_type": "code",
   "execution_count": 87,
   "id": "e42f1363",
   "metadata": {},
   "outputs": [],
   "source": [
    "import random\n",
    "\n",
    "# A function to reduce the O labels\n",
    "def reduce(xx, yy):\n",
    "  x = np.copy(xx)\n",
    "  y = np.copy(yy)\n",
    "\n",
    "# Iterate over each sublist in x and its corresponding sublist in y\n",
    "  for i, (sublist_x, sublist_y) in enumerate(zip(x, y)):\n",
    "      indices_to_delete = []\n",
    "      \n",
    "      for j, label in enumerate(sublist_y):\n",
    "          if label == \"O\":\n",
    "              indices_to_delete.append(j)\n",
    "\n",
    "      num_deletions = random.randint(0, len(indices_to_delete))\n",
    "      indices_to_delete = indices_to_delete[:num_deletions]\n",
    "      for rem, index in enumerate(indices_to_delete):\n",
    "          del sublist_x[index - rem]\n",
    "          del sublist_y[index - rem]\n",
    "      \n",
    "      # Update the modified sublists in x and y\n",
    "      x[i] = sublist_x\n",
    "      y[i] = sublist_y\n",
    "\n",
    "  return x, y"
   ]
  },
  {
   "cell_type": "code",
   "execution_count": 90,
   "id": "b2b7e874",
   "metadata": {},
   "outputs": [
    {
     "name": "stdout",
     "output_type": "stream",
     "text": [
      "['EU', 'German', 'British']\n",
      "['I-PER', 'I-LOC', 'I-LOC']\n",
      "done\n",
      "['O', 'O', 'I-ORG', 'O', 'O', 'O', 'O', 'PER', 'O', 'O', 'O', 'O']\n",
      "['I-PER', 'O', 'I-ORG', 'I-LOC', 'B-MISC', 'B-MISC', 'O', 'I-PER', 'B-ORG', 'I-PER', 'I-PER', 'O']\n",
      "              precision    recall  f1-score   support\n",
      "\n",
      "       B-LOC      0.269     0.276     0.273       257\n",
      "      B-MISC      0.190     0.421     0.262       216\n",
      "       B-ORG      0.312     0.304     0.308       835\n",
      "       B-PER      0.490     0.596     0.538      1156\n",
      "       I-LOC      0.220     0.164     0.188       702\n",
      "       I-ORG      0.296     0.380     0.333      1668\n",
      "       I-PER      0.281     0.267     0.274      1661\n",
      "           O      0.948     0.931     0.940     38323\n",
      "         PER      0.456     0.447     0.451      1617\n",
      "\n",
      "    accuracy                          0.834     46435\n",
      "   macro avg      0.385     0.421     0.396     46435\n",
      "weighted avg      0.843     0.834     0.838     46435\n",
      "\n"
     ]
    }
   ],
   "source": [
    "# Initialize the CRF model with class weighting\n",
    "crf = CRF(algorithm='lbfgs', c1=0.1, c2=1, max_iterations=300, all_possible_states=True)\n",
    "X, Y = reduce(new_train, new_label)\n",
    "print(X[0])\n",
    "print(Y[0])\n",
    "\n",
    "# Fit the CRF model on the modified training data\n",
    "crf.fit(X, Y)\n",
    "print(\"done\")\n",
    "\n",
    "y_pred = crf.predict(test_ner)\n",
    "print(test_label_ner[0])\n",
    "print(y_pred[0])\n",
    "\n",
    "# Calculate evaluation metrics\n",
    "report = classification_report(flatten(test_label_ner), flatten(y_pred), digits=3)\n",
    "print(report)"
   ]
  }
 ],
 "metadata": {
  "kernelspec": {
   "display_name": "Python 3 (ipykernel)",
   "language": "python",
   "name": "python3"
  },
  "language_info": {
   "codemirror_mode": {
    "name": "ipython",
    "version": 3
   },
   "file_extension": ".py",
   "mimetype": "text/x-python",
   "name": "python",
   "nbconvert_exporter": "python",
   "pygments_lexer": "ipython3",
   "version": "3.9.12"
  }
 },
 "nbformat": 4,
 "nbformat_minor": 5
}
